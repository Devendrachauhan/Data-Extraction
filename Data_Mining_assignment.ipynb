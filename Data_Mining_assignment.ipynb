{
  "nbformat": 4,
  "nbformat_minor": 0,
  "metadata": {
    "kernelspec": {
      "display_name": "Python 3",
      "language": "python",
      "name": "python3"
    },
    "language_info": {
      "codemirror_mode": {
        "name": "ipython",
        "version": 3
      },
      "file_extension": ".py",
      "mimetype": "text/x-python",
      "name": "python",
      "nbconvert_exporter": "python",
      "pygments_lexer": "ipython3",
      "version": "3.7.9"
    },
    "colab": {
      "name": "Data_Mining_assign.ipynb",
      "provenance": [],
      "collapsed_sections": []
    }
  },
  "cells": [
    {
      "cell_type": "code",
      "metadata": {
        "colab": {
          "base_uri": "https://localhost:8080/"
        },
        "id": "XdvV0rWr2hiE",
        "outputId": "73ead0e8-996e-422a-db11-20a5fd79336d"
      },
      "source": [
        "# !pip install pdfplumber"
      ],
      "execution_count": 2,
      "outputs": [
        {
          "output_type": "stream",
          "text": [
            "Requirement already satisfied: pdfplumber in /usr/local/lib/python3.7/dist-packages (0.5.26)\n",
            "Requirement already satisfied: pdfminer.six==20200517 in /usr/local/lib/python3.7/dist-packages (from pdfplumber) (20200517)\n",
            "Requirement already satisfied: Wand in /usr/local/lib/python3.7/dist-packages (from pdfplumber) (0.6.5)\n",
            "Requirement already satisfied: Pillow>=7.0.0 in /usr/local/lib/python3.7/dist-packages (from pdfplumber) (7.0.0)\n",
            "Requirement already satisfied: chardet; python_version > \"3.0\" in /usr/local/lib/python3.7/dist-packages (from pdfminer.six==20200517->pdfplumber) (3.0.4)\n",
            "Requirement already satisfied: pycryptodome in /usr/local/lib/python3.7/dist-packages (from pdfminer.six==20200517->pdfplumber) (3.10.1)\n",
            "Requirement already satisfied: sortedcontainers in /usr/local/lib/python3.7/dist-packages (from pdfminer.six==20200517->pdfplumber) (2.3.0)\n"
          ],
          "name": "stdout"
        }
      ]
    },
    {
      "cell_type": "markdown",
      "metadata": {
        "id": "MhYmoxrhy4Cf"
      },
      "source": [
        "## Importing Libraries"
      ]
    },
    {
      "cell_type": "code",
      "metadata": {
        "id": "d4iX0uc-xejm"
      },
      "source": [
        "import pdfplumber,copy\n",
        "import re\n",
        "import pandas as pd"
      ],
      "execution_count": 3,
      "outputs": []
    },
    {
      "cell_type": "markdown",
      "metadata": {
        "id": "3zrI--4Vy-2N"
      },
      "source": [
        "### Import pdf file\n"
      ]
    },
    {
      "cell_type": "code",
      "metadata": {
        "id": "qtzsZYpxxejw"
      },
      "source": [
        "pdf = pdfplumber.open('/content/drive/MyDrive/CV/Sample.pdf')"
      ],
      "execution_count": 4,
      "outputs": []
    },
    {
      "cell_type": "markdown",
      "metadata": {
        "id": "1sJmlUAozXAy"
      },
      "source": [
        "Count the number of pages\n"
      ]
    },
    {
      "cell_type": "code",
      "metadata": {
        "colab": {
          "base_uri": "https://localhost:8080/"
        },
        "id": "Qxa9272_xejx",
        "outputId": "2e94c1d9-576d-4bde-f693-572e67b75af7"
      },
      "source": [
        "len(pdf.pages)"
      ],
      "execution_count": 5,
      "outputs": [
        {
          "output_type": "execute_result",
          "data": {
            "text/plain": [
              "3"
            ]
          },
          "metadata": {
            "tags": []
          },
          "execution_count": 5
        }
      ]
    },
    {
      "cell_type": "markdown",
      "metadata": {
        "id": "xrv50BflL9X_"
      },
      "source": [
        "Looping over the pdf and extracting the words location"
      ]
    },
    {
      "cell_type": "code",
      "metadata": {
        "id": "gW_REyOCxejz"
      },
      "source": [
        "total_words=[]\n",
        "for page in range(len(pdf.pages)):\n",
        "    p=pdf.pages[page]\n",
        "    words = p.extract_words(x_tolerance=2)\n",
        "    total_words.extend(words)\n",
        "for word in total_words:\n",
        "    word['x0'] = int(word['x0'])\n",
        "    word['x1'] = int(word['x1'])\n",
        "    word['top'] = int(word['top'])\n",
        "    word['bottom'] = int(word['bottom'])"
      ],
      "execution_count": 6,
      "outputs": []
    },
    {
      "cell_type": "code",
      "metadata": {
        "id": "LxP3VJuJU8op"
      },
      "source": [
        "# total_words[0:4]"
      ],
      "execution_count": 7,
      "outputs": []
    },
    {
      "cell_type": "markdown",
      "metadata": {
        "id": "WqYF5c3AMU9Q"
      },
      "source": [
        "Remove unnecessary text before starting and ending the pdf"
      ]
    },
    {
      "cell_type": "code",
      "metadata": {
        "id": "lfl0Ry-Oxej0"
      },
      "source": [
        "wordlist=[]\n",
        "start=0\n",
        "end=0\n",
        "for i in range(len(total_words)):\n",
        "    if total_words[i]['text']in ['Data:']:\n",
        "        start=i+1\n",
        "    if total_words[i]['text'] in ['Several']:\n",
        "        end=i\n",
        "# print(start,end)\n",
        "for i in range(start,end):\n",
        "    wordlist.append(total_words[i])"
      ],
      "execution_count": 8,
      "outputs": []
    },
    {
      "cell_type": "markdown",
      "metadata": {
        "id": "UXMZWBLMMjFT"
      },
      "source": [
        "Extract required text from word list"
      ]
    },
    {
      "cell_type": "code",
      "metadata": {
        "id": "MKv3qOrzxej0"
      },
      "source": [
        "text = ''\n",
        "for word in wordlist:\n",
        "    text = text +' ' + word['text']"
      ],
      "execution_count": 9,
      "outputs": []
    },
    {
      "cell_type": "code",
      "metadata": {
        "colab": {
          "base_uri": "https://localhost:8080/",
          "height": 188
        },
        "id": "gBqpcUJtxej1",
        "outputId": "a5fe5eac-4a47-4982-ccbb-392f8840a636"
      },
      "source": [
        "text"
      ],
      "execution_count": 10,
      "outputs": [
        {
          "output_type": "execute_result",
          "data": {
            "application/vnd.google.colaboratory.intrinsic+json": {
              "type": "string"
            },
            "text/plain": [
              "' Chilli - 250 Beans long - 250 Bitter gourd - 500 Coccinia - 500 Garlic - 250 Radish white - 250 Carrot ooty - 500 Ladies finger - 500 Onion - 2 kg Potato - 1 kg Sambar cucumber - 500 Banana robust - 2 kg Bitter gourd - 500gms Brinjal purple big one - 1 Capsicum green - 2-3 pieces Baby bottle gourd - 1 Banana yellaki - 1/2 kg Arbi 1/2 kg Potato - 1kg Bitter gourd 250 gms Radish white with leaves 4-5 Delhi carrot 500 gms English Cucumber 500gms Bathua 2-3 bunches Sarson 3 Bunches Beetroot 500 grams 1 cauliflower Nati dhaniya 1 bunch Apple Washington 500gms Banana yellaki 500 gms 1 Broccoli Baby corn 1pkt Mushrooms 1pkt 2bunch coriander 1 methi 1 mint 500 gm delhi carrot 1 kg local tomato 1kg fresh green peas 500gm seedless black grapes250 gm beetroot 500gm lady finger 1 kg fresh n tender green peas 250gm ridge gourd 250 beans long 250gm capsicum 100gm amla 100gm rose Onion - 1 kg @ 1 Tomato natti - 1 kg Yelaki banana - 1 kg 1 Bunch coriander 1 Broccoli 1/2 kg Cucumber salad 1/2kg apple Washington 1/2 kg banana Yelakki 1/2 kg seedless grapes 1/2 kg delhi carrot Beans haricot-500gms Delhi carrot-1 kg Cucumber english-1kg Cucumber salad-500gms Ladies finger-500gms Cauliflower- 1 pcs Avarakai-500gms Banana yelaki-1kg(medium ripen) Papaya-1(ripen )'"
            ]
          },
          "metadata": {
            "tags": []
          },
          "execution_count": 10
        }
      ]
    },
    {
      "cell_type": "markdown",
      "metadata": {
        "id": "Ymorzen0MrAr"
      },
      "source": [
        "Splitting the text into necessary lines as documented in pdf like line by line"
      ]
    },
    {
      "cell_type": "code",
      "metadata": {
        "id": "JpxoVfuhxej2"
      },
      "source": [
        "item_list=[]\n",
        "text=''\n",
        "for word in wordlist:\n",
        "\n",
        "    if word['x0']==wordlist[0]['x0']: #Equal to new line means left corner x0 coordinate\n",
        "        item_list.append(text)\n",
        "        #text=''\n",
        "        text=word['text']\n",
        "    else:\n",
        "\n",
        "        text=text+' '+word['text']\n",
        "item_list.append(text)"
      ],
      "execution_count": 11,
      "outputs": []
    },
    {
      "cell_type": "code",
      "metadata": {
        "id": "kP5Ez9V9xej2",
        "colab": {
          "base_uri": "https://localhost:8080/"
        },
        "outputId": "ac3c4deb-fc59-40aa-bb9f-ad9c13021d32"
      },
      "source": [
        "item_list=item_list[1:]\n",
        "item_list"
      ],
      "execution_count": 12,
      "outputs": [
        {
          "output_type": "execute_result",
          "data": {
            "text/plain": [
              "['Chilli - 250',\n",
              " 'Beans long - 250',\n",
              " 'Bitter gourd - 500',\n",
              " 'Coccinia - 500',\n",
              " 'Garlic - 250',\n",
              " 'Radish white - 250',\n",
              " 'Carrot ooty - 500',\n",
              " 'Ladies finger - 500',\n",
              " 'Onion - 2 kg',\n",
              " 'Potato - 1 kg',\n",
              " 'Sambar cucumber - 500',\n",
              " 'Banana robust - 2 kg',\n",
              " 'Bitter gourd - 500gms',\n",
              " 'Brinjal purple big one - 1',\n",
              " 'Capsicum green - 2-3 pieces',\n",
              " 'Baby bottle gourd - 1',\n",
              " 'Banana yellaki - 1/2 kg',\n",
              " 'Arbi 1/2 kg',\n",
              " 'Potato - 1kg',\n",
              " 'Bitter gourd 250 gms',\n",
              " 'Radish white with leaves 4-5',\n",
              " 'Delhi carrot 500 gms',\n",
              " 'English Cucumber 500gms',\n",
              " 'Bathua 2-3 bunches',\n",
              " 'Sarson 3 Bunches',\n",
              " 'Beetroot 500 grams',\n",
              " '1 cauliflower',\n",
              " 'Nati dhaniya 1 bunch',\n",
              " 'Apple Washington 500gms',\n",
              " 'Banana yellaki 500 gms',\n",
              " '1 Broccoli',\n",
              " 'Baby corn 1pkt',\n",
              " 'Mushrooms 1pkt',\n",
              " '2bunch coriander 1 methi 1 mint 500 gm delhi carrot 1 kg local tomato 1kg fresh green peas',\n",
              " '500gm seedless black grapes250 gm beetroot',\n",
              " '500gm lady finger 1 kg fresh n tender green peas 250gm ridge gourd 250 beans long 250gm',\n",
              " 'capsicum 100gm amla 100gm rose',\n",
              " 'Onion - 1 kg @ 1',\n",
              " 'Tomato natti - 1 kg',\n",
              " 'Yelaki banana - 1 kg',\n",
              " '1 Bunch coriander',\n",
              " '1 Broccoli',\n",
              " '1/2 kg Cucumber salad',\n",
              " '1/2kg apple Washington',\n",
              " '1/2 kg banana Yelakki',\n",
              " '1/2 kg seedless grapes',\n",
              " '1/2 kg delhi carrot',\n",
              " 'Beans haricot-500gms',\n",
              " 'Delhi carrot-1 kg',\n",
              " 'Cucumber english-1kg',\n",
              " 'Cucumber salad-500gms',\n",
              " 'Ladies finger-500gms',\n",
              " 'Cauliflower- 1 pcs',\n",
              " 'Avarakai-500gms',\n",
              " 'Banana yelaki-1kg(medium ripen)',\n",
              " 'Papaya-1(ripen )']"
            ]
          },
          "metadata": {
            "tags": []
          },
          "execution_count": 12
        }
      ]
    },
    {
      "cell_type": "markdown",
      "metadata": {
        "id": "VB5IIqlXM1H6"
      },
      "source": [
        "Split item list in two different categories one start with digit and another start without digit"
      ]
    },
    {
      "cell_type": "code",
      "metadata": {
        "id": "YOix9Ysxxej4"
      },
      "source": [
        "item_list1=[]\n",
        "item_list2=[]\n",
        "for i in range(len(item_list)):\n",
        "    if item_list[i][0].isdigit()==True:\n",
        "        item_list2.append(item_list[i])\n",
        "        #item_list1.pop(i)\n",
        "    else:\n",
        "        item_list1.append(item_list[i])"
      ],
      "execution_count": 13,
      "outputs": []
    },
    {
      "cell_type": "code",
      "metadata": {
        "colab": {
          "base_uri": "https://localhost:8080/"
        },
        "id": "9j1BG1mcxej4",
        "outputId": "49d1b7d0-7565-4e62-d64a-efc610c22920"
      },
      "source": [
        "len(item_list1)"
      ],
      "execution_count": 14,
      "outputs": [
        {
          "output_type": "execute_result",
          "data": {
            "text/plain": [
              "44"
            ]
          },
          "metadata": {
            "tags": []
          },
          "execution_count": 14
        }
      ]
    },
    {
      "cell_type": "code",
      "metadata": {
        "colab": {
          "base_uri": "https://localhost:8080/"
        },
        "id": "ovX1u3Tmxej5",
        "outputId": "78d2ed8f-b182-4ed0-8be2-97bd480faa40"
      },
      "source": [
        "item_list2"
      ],
      "execution_count": 15,
      "outputs": [
        {
          "output_type": "execute_result",
          "data": {
            "text/plain": [
              "['1 cauliflower',\n",
              " '1 Broccoli',\n",
              " '2bunch coriander 1 methi 1 mint 500 gm delhi carrot 1 kg local tomato 1kg fresh green peas',\n",
              " '500gm seedless black grapes250 gm beetroot',\n",
              " '500gm lady finger 1 kg fresh n tender green peas 250gm ridge gourd 250 beans long 250gm',\n",
              " '1 Bunch coriander',\n",
              " '1 Broccoli',\n",
              " '1/2 kg Cucumber salad',\n",
              " '1/2kg apple Washington',\n",
              " '1/2 kg banana Yelakki',\n",
              " '1/2 kg seedless grapes',\n",
              " '1/2 kg delhi carrot']"
            ]
          },
          "metadata": {
            "tags": []
          },
          "execution_count": 15
        }
      ]
    },
    {
      "cell_type": "code",
      "metadata": {
        "colab": {
          "base_uri": "https://localhost:8080/"
        },
        "id": "VEIxuQLlxej5",
        "outputId": "37854fdd-c19e-4cb2-8592-c4ac2b477595"
      },
      "source": [
        "item_list1"
      ],
      "execution_count": 16,
      "outputs": [
        {
          "output_type": "execute_result",
          "data": {
            "text/plain": [
              "['Chilli - 250',\n",
              " 'Beans long - 250',\n",
              " 'Bitter gourd - 500',\n",
              " 'Coccinia - 500',\n",
              " 'Garlic - 250',\n",
              " 'Radish white - 250',\n",
              " 'Carrot ooty - 500',\n",
              " 'Ladies finger - 500',\n",
              " 'Onion - 2 kg',\n",
              " 'Potato - 1 kg',\n",
              " 'Sambar cucumber - 500',\n",
              " 'Banana robust - 2 kg',\n",
              " 'Bitter gourd - 500gms',\n",
              " 'Brinjal purple big one - 1',\n",
              " 'Capsicum green - 2-3 pieces',\n",
              " 'Baby bottle gourd - 1',\n",
              " 'Banana yellaki - 1/2 kg',\n",
              " 'Arbi 1/2 kg',\n",
              " 'Potato - 1kg',\n",
              " 'Bitter gourd 250 gms',\n",
              " 'Radish white with leaves 4-5',\n",
              " 'Delhi carrot 500 gms',\n",
              " 'English Cucumber 500gms',\n",
              " 'Bathua 2-3 bunches',\n",
              " 'Sarson 3 Bunches',\n",
              " 'Beetroot 500 grams',\n",
              " 'Nati dhaniya 1 bunch',\n",
              " 'Apple Washington 500gms',\n",
              " 'Banana yellaki 500 gms',\n",
              " 'Baby corn 1pkt',\n",
              " 'Mushrooms 1pkt',\n",
              " 'capsicum 100gm amla 100gm rose',\n",
              " 'Onion - 1 kg @ 1',\n",
              " 'Tomato natti - 1 kg',\n",
              " 'Yelaki banana - 1 kg',\n",
              " 'Beans haricot-500gms',\n",
              " 'Delhi carrot-1 kg',\n",
              " 'Cucumber english-1kg',\n",
              " 'Cucumber salad-500gms',\n",
              " 'Ladies finger-500gms',\n",
              " 'Cauliflower- 1 pcs',\n",
              " 'Avarakai-500gms',\n",
              " 'Banana yelaki-1kg(medium ripen)',\n",
              " 'Papaya-1(ripen )']"
            ]
          },
          "metadata": {
            "tags": []
          },
          "execution_count": 16
        }
      ]
    },
    {
      "cell_type": "markdown",
      "metadata": {
        "id": "CedAeGd8cZh1"
      },
      "source": [
        "Extract Name,Quantity and Unit from the item_list1 using regex to seprate the text from digit"
      ]
    },
    {
      "cell_type": "code",
      "metadata": {
        "id": "0deG3qEMxej6"
      },
      "source": [
        "name_list=[]\n",
        "quant_list1=[]\n",
        "unit_list1=[]\n",
        "for element in item_list1:\n",
        "    value=re.findall('(\\d.*)$',element)[0]\n",
        "    index=element.find(value) #Get the index of digit\n",
        "    name=element[:index]\n",
        "    name_list.append(name) #appending name in list\n",
        "    quant_unit=value\n",
        "    value=re.findall(r'.*\\d',quant_unit)[0]\n",
        "    ind=quant_unit.find(value)+len(value)\n",
        "    quant_list1.append(quant_unit[:ind])\n",
        "    unit_list1.append(quant_unit[ind:])"
      ],
      "execution_count": 17,
      "outputs": []
    },
    {
      "cell_type": "markdown",
      "metadata": {
        "id": "0Bw_-68yel6A"
      },
      "source": [
        ""
      ]
    },
    {
      "cell_type": "code",
      "metadata": {
        "colab": {
          "base_uri": "https://localhost:8080/"
        },
        "id": "4F4OSMc7fU_j",
        "outputId": "cb09e6d4-cff7-4053-bbac-251c4dda9561"
      },
      "source": [
        "item_list2"
      ],
      "execution_count": 18,
      "outputs": [
        {
          "output_type": "execute_result",
          "data": {
            "text/plain": [
              "['1 cauliflower',\n",
              " '1 Broccoli',\n",
              " '2bunch coriander 1 methi 1 mint 500 gm delhi carrot 1 kg local tomato 1kg fresh green peas',\n",
              " '500gm seedless black grapes250 gm beetroot',\n",
              " '500gm lady finger 1 kg fresh n tender green peas 250gm ridge gourd 250 beans long 250gm',\n",
              " '1 Bunch coriander',\n",
              " '1 Broccoli',\n",
              " '1/2 kg Cucumber salad',\n",
              " '1/2kg apple Washington',\n",
              " '1/2 kg banana Yelakki',\n",
              " '1/2 kg seedless grapes',\n",
              " '1/2 kg delhi carrot']"
            ]
          },
          "metadata": {
            "tags": []
          },
          "execution_count": 18
        }
      ]
    },
    {
      "cell_type": "code",
      "metadata": {
        "colab": {
          "base_uri": "https://localhost:8080/"
        },
        "id": "jdtNWkpTfTPH",
        "outputId": "f2e8bcb3-9447-4506-84cf-579c645a733e"
      },
      "source": [
        "tyr='2bunch coriander 1 methi 1 mint 500 gm delhi carrot 1 kg local tomato 1kg fresh green peas '\n",
        "fg=re.findall('(.*\\w\\s)\\d',tyr)\n",
        "fg"
      ],
      "execution_count": 19,
      "outputs": [
        {
          "output_type": "execute_result",
          "data": {
            "text/plain": [
              "['2bunch coriander 1 methi 1 mint 500 gm delhi carrot 1 kg local tomato ']"
            ]
          },
          "metadata": {
            "tags": []
          },
          "execution_count": 19
        }
      ]
    },
    {
      "cell_type": "markdown",
      "metadata": {
        "id": "M03pA_mrgpfb"
      },
      "source": [
        "Extract data from item_list2 using regex"
      ]
    },
    {
      "cell_type": "code",
      "metadata": {
        "scrolled": true,
        "id": "UxTwvrxZxej7"
      },
      "source": [
        "item2=[]\n",
        "for element in item_list2:\n",
        "    \n",
        "    while(True):\n",
        "        #print(element)\n",
        "        try:\n",
        "            new_string=re.findall('(.*\\w\\s)\\d',element)[0] #check digit in the last of data after text and stop it\n",
        "        except:\n",
        "            item2.append(element)\n",
        "            break\n",
        "        index=element.find(new_string) + len(new_string) \n",
        "        item2.append(element[index:])\n",
        "        element=new_string  "
      ],
      "execution_count": 20,
      "outputs": []
    },
    {
      "cell_type": "code",
      "metadata": {
        "colab": {
          "base_uri": "https://localhost:8080/"
        },
        "id": "ryFCGqaPxej8",
        "outputId": "e451191f-26aa-4e6f-f32e-e32df2947520"
      },
      "source": [
        "item2"
      ],
      "execution_count": 21,
      "outputs": [
        {
          "output_type": "execute_result",
          "data": {
            "text/plain": [
              "['1 cauliflower',\n",
              " '1 Broccoli',\n",
              " '1kg fresh green peas',\n",
              " '1 kg local tomato ',\n",
              " '500 gm delhi carrot ',\n",
              " '1 mint ',\n",
              " '1 methi ',\n",
              " '2bunch coriander ',\n",
              " '500gm seedless black grapes250 gm beetroot',\n",
              " '250gm',\n",
              " '250 beans long ',\n",
              " '250gm ridge gourd ',\n",
              " '1 kg fresh n tender green peas ',\n",
              " '500gm lady finger ',\n",
              " '1 Bunch coriander',\n",
              " '1 Broccoli',\n",
              " '1/2 kg Cucumber salad',\n",
              " '1/2kg apple Washington',\n",
              " '1/2 kg banana Yelakki',\n",
              " '1/2 kg seedless grapes',\n",
              " '1/2 kg delhi carrot']"
            ]
          },
          "metadata": {
            "tags": []
          },
          "execution_count": 21
        }
      ]
    },
    {
      "cell_type": "markdown",
      "metadata": {
        "id": "WeIJ2jt3Yjsh"
      },
      "source": [
        "Seprate quantity and unit from text in item2(eg:500 kg) using regex\n"
      ]
    },
    {
      "cell_type": "code",
      "metadata": {
        "id": "3lRm2AQXxej9"
      },
      "source": [
        "lst1=[]\n",
        "item_name=[]\n",
        "for element in item2:\n",
        "    x=True\n",
        "    try:\n",
        "        value=re.findall('[a-zA-Z]{3,100}',element)[0] #find countinuous more than 3 character in the elements of list\n",
        "    except:\n",
        "        x=False\n",
        "        pass\n",
        "    if x==True:\n",
        "        \n",
        "        ind=element.find(str(value))\n",
        "\n",
        "        # print(element)\n",
        "        # index=element.find(str(value))\n",
        "        lst1.append(element[:ind])\n",
        "        item_name.append(element[ind:])"
      ],
      "execution_count": 22,
      "outputs": []
    },
    {
      "cell_type": "markdown",
      "metadata": {
        "id": "rq4vSlBZXb0_"
      },
      "source": [
        "seprate Quantity and Units in two different list from list1"
      ]
    },
    {
      "cell_type": "code",
      "metadata": {
        "id": "GCHCHn6vxej9"
      },
      "source": [
        "quant_list2=[]\n",
        "unit_list2=[]\n",
        "for element in lst1:\n",
        "    value=re.findall(r'.*\\d',element)[0]\n",
        "    ind=element.find(value)+len(value) #Get index of a starting Character\n",
        "    quant_list2.append(element[:ind])\n",
        "    unit_list2.append(element[ind:])"
      ],
      "execution_count": 23,
      "outputs": []
    },
    {
      "cell_type": "markdown",
      "metadata": {
        "id": "v57gnx0lYRv4"
      },
      "source": [
        "Merge all the data columnn wise\n"
      ]
    },
    {
      "cell_type": "code",
      "metadata": {
        "id": "Tvw-xR8Q4n5l"
      },
      "source": [
        "total_name=name_list+item_name\n",
        "total_quant=quant_list1+quant_list2\n",
        "total_unit=unit_list1+unit_list2"
      ],
      "execution_count": 24,
      "outputs": []
    },
    {
      "cell_type": "markdown",
      "metadata": {
        "id": "9qmgkLp2YHFW"
      },
      "source": [
        "### Create DataFrame\n"
      ]
    },
    {
      "cell_type": "code",
      "metadata": {
        "id": "iokJzWyP8Jos"
      },
      "source": [
        "df = pd.DataFrame(list(zip(total_name, total_quant,total_unit)),columns =['Item_Names', 'Quantities','Units'])"
      ],
      "execution_count": 25,
      "outputs": []
    },
    {
      "cell_type": "code",
      "metadata": {
        "colab": {
          "base_uri": "https://localhost:8080/",
          "height": 419
        },
        "id": "9Iq3R4dZWgWV",
        "outputId": "d2ef0a9d-0b9d-4f64-c004-ee36ac91320e"
      },
      "source": [
        "df"
      ],
      "execution_count": 26,
      "outputs": [
        {
          "output_type": "execute_result",
          "data": {
            "text/html": [
              "<div>\n",
              "<style scoped>\n",
              "    .dataframe tbody tr th:only-of-type {\n",
              "        vertical-align: middle;\n",
              "    }\n",
              "\n",
              "    .dataframe tbody tr th {\n",
              "        vertical-align: top;\n",
              "    }\n",
              "\n",
              "    .dataframe thead th {\n",
              "        text-align: right;\n",
              "    }\n",
              "</style>\n",
              "<table border=\"1\" class=\"dataframe\">\n",
              "  <thead>\n",
              "    <tr style=\"text-align: right;\">\n",
              "      <th></th>\n",
              "      <th>Item_Names</th>\n",
              "      <th>Quantities</th>\n",
              "      <th>Units</th>\n",
              "    </tr>\n",
              "  </thead>\n",
              "  <tbody>\n",
              "    <tr>\n",
              "      <th>0</th>\n",
              "      <td>Chilli -</td>\n",
              "      <td>250</td>\n",
              "      <td></td>\n",
              "    </tr>\n",
              "    <tr>\n",
              "      <th>1</th>\n",
              "      <td>Beans long -</td>\n",
              "      <td>250</td>\n",
              "      <td></td>\n",
              "    </tr>\n",
              "    <tr>\n",
              "      <th>2</th>\n",
              "      <td>Bitter gourd -</td>\n",
              "      <td>500</td>\n",
              "      <td></td>\n",
              "    </tr>\n",
              "    <tr>\n",
              "      <th>3</th>\n",
              "      <td>Coccinia -</td>\n",
              "      <td>500</td>\n",
              "      <td></td>\n",
              "    </tr>\n",
              "    <tr>\n",
              "      <th>4</th>\n",
              "      <td>Garlic -</td>\n",
              "      <td>250</td>\n",
              "      <td></td>\n",
              "    </tr>\n",
              "    <tr>\n",
              "      <th>...</th>\n",
              "      <td>...</td>\n",
              "      <td>...</td>\n",
              "      <td>...</td>\n",
              "    </tr>\n",
              "    <tr>\n",
              "      <th>59</th>\n",
              "      <td>Cucumber salad</td>\n",
              "      <td>1/2</td>\n",
              "      <td>kg</td>\n",
              "    </tr>\n",
              "    <tr>\n",
              "      <th>60</th>\n",
              "      <td>apple Washington</td>\n",
              "      <td>1/2</td>\n",
              "      <td>kg</td>\n",
              "    </tr>\n",
              "    <tr>\n",
              "      <th>61</th>\n",
              "      <td>banana Yelakki</td>\n",
              "      <td>1/2</td>\n",
              "      <td>kg</td>\n",
              "    </tr>\n",
              "    <tr>\n",
              "      <th>62</th>\n",
              "      <td>seedless grapes</td>\n",
              "      <td>1/2</td>\n",
              "      <td>kg</td>\n",
              "    </tr>\n",
              "    <tr>\n",
              "      <th>63</th>\n",
              "      <td>delhi carrot</td>\n",
              "      <td>1/2</td>\n",
              "      <td>kg</td>\n",
              "    </tr>\n",
              "  </tbody>\n",
              "</table>\n",
              "<p>64 rows × 3 columns</p>\n",
              "</div>"
            ],
            "text/plain": [
              "          Item_Names Quantities Units\n",
              "0          Chilli -         250      \n",
              "1      Beans long -         250      \n",
              "2    Bitter gourd -         500      \n",
              "3        Coccinia -         500      \n",
              "4          Garlic -         250      \n",
              "..               ...        ...   ...\n",
              "59    Cucumber salad        1/2   kg \n",
              "60  apple Washington        1/2   kg \n",
              "61    banana Yelakki        1/2   kg \n",
              "62   seedless grapes        1/2   kg \n",
              "63      delhi carrot        1/2   kg \n",
              "\n",
              "[64 rows x 3 columns]"
            ]
          },
          "metadata": {
            "tags": []
          },
          "execution_count": 26
        }
      ]
    },
    {
      "cell_type": "markdown",
      "metadata": {
        "id": "WNosTzHpblIJ"
      },
      "source": [
        "Clean the Item name and remove spaces and special characters\n"
      ]
    },
    {
      "cell_type": "code",
      "metadata": {
        "id": "dgyYOxsKWrB0"
      },
      "source": [
        "df.Item_Names = df.Item_Names.str.replace('[#,@,&,' ',-]', '') "
      ],
      "execution_count": 28,
      "outputs": []
    },
    {
      "cell_type": "code",
      "metadata": {
        "colab": {
          "base_uri": "https://localhost:8080/",
          "height": 359
        },
        "id": "-x3jnHcyXA7X",
        "outputId": "9b9604a1-b784-4229-d2ad-511ed0d05858"
      },
      "source": [
        "df.head(10)"
      ],
      "execution_count": 31,
      "outputs": [
        {
          "output_type": "execute_result",
          "data": {
            "text/html": [
              "<div>\n",
              "<style scoped>\n",
              "    .dataframe tbody tr th:only-of-type {\n",
              "        vertical-align: middle;\n",
              "    }\n",
              "\n",
              "    .dataframe tbody tr th {\n",
              "        vertical-align: top;\n",
              "    }\n",
              "\n",
              "    .dataframe thead th {\n",
              "        text-align: right;\n",
              "    }\n",
              "</style>\n",
              "<table border=\"1\" class=\"dataframe\">\n",
              "  <thead>\n",
              "    <tr style=\"text-align: right;\">\n",
              "      <th></th>\n",
              "      <th>Item_Names</th>\n",
              "      <th>Quantities</th>\n",
              "      <th>Units</th>\n",
              "    </tr>\n",
              "  </thead>\n",
              "  <tbody>\n",
              "    <tr>\n",
              "      <th>0</th>\n",
              "      <td>Chilli</td>\n",
              "      <td>250</td>\n",
              "      <td></td>\n",
              "    </tr>\n",
              "    <tr>\n",
              "      <th>1</th>\n",
              "      <td>Beans long</td>\n",
              "      <td>250</td>\n",
              "      <td></td>\n",
              "    </tr>\n",
              "    <tr>\n",
              "      <th>2</th>\n",
              "      <td>Bitter gourd</td>\n",
              "      <td>500</td>\n",
              "      <td></td>\n",
              "    </tr>\n",
              "    <tr>\n",
              "      <th>3</th>\n",
              "      <td>Coccinia</td>\n",
              "      <td>500</td>\n",
              "      <td></td>\n",
              "    </tr>\n",
              "    <tr>\n",
              "      <th>4</th>\n",
              "      <td>Garlic</td>\n",
              "      <td>250</td>\n",
              "      <td></td>\n",
              "    </tr>\n",
              "    <tr>\n",
              "      <th>5</th>\n",
              "      <td>Radish white</td>\n",
              "      <td>250</td>\n",
              "      <td></td>\n",
              "    </tr>\n",
              "    <tr>\n",
              "      <th>6</th>\n",
              "      <td>Carrot ooty</td>\n",
              "      <td>500</td>\n",
              "      <td></td>\n",
              "    </tr>\n",
              "    <tr>\n",
              "      <th>7</th>\n",
              "      <td>Ladies finger</td>\n",
              "      <td>500</td>\n",
              "      <td></td>\n",
              "    </tr>\n",
              "    <tr>\n",
              "      <th>8</th>\n",
              "      <td>Onion</td>\n",
              "      <td>2</td>\n",
              "      <td>kg</td>\n",
              "    </tr>\n",
              "    <tr>\n",
              "      <th>9</th>\n",
              "      <td>Potato</td>\n",
              "      <td>1</td>\n",
              "      <td>kg</td>\n",
              "    </tr>\n",
              "  </tbody>\n",
              "</table>\n",
              "</div>"
            ],
            "text/plain": [
              "        Item_Names Quantities Units\n",
              "0         Chilli          250      \n",
              "1     Beans long          250      \n",
              "2   Bitter gourd          500      \n",
              "3       Coccinia          500      \n",
              "4         Garlic          250      \n",
              "5   Radish white          250      \n",
              "6    Carrot ooty          500      \n",
              "7  Ladies finger          500      \n",
              "8          Onion            2    kg\n",
              "9         Potato            1    kg"
            ]
          },
          "metadata": {
            "tags": []
          },
          "execution_count": 31
        }
      ]
    },
    {
      "cell_type": "code",
      "metadata": {
        "id": "Lr-jhH5sbMKX"
      },
      "source": [
        ""
      ],
      "execution_count": null,
      "outputs": []
    }
  ]
}